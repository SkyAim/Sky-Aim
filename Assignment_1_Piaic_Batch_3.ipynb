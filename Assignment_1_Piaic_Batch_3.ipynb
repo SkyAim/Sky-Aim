{
 "cells": [
  {
   "cell_type": "code",
   "execution_count": 4,
   "metadata": {},
   "outputs": [
    {
     "name": "stdout",
     "output_type": "stream",
     "text": [
      "Enter name: Baseer Ahmed\n",
      "Enter Quarter: 1\n",
      "Enter Batch: 3\n",
      "Enter City: isb\n",
      "Enter University: qau\n",
      "\n",
      "Name: Baseer Ahmed\n",
      "Quarter: 1\n",
      "Batch: 3\n",
      "City: isb\n",
      "University: qau\n",
      "\n",
      "BASEER AHMED\n",
      "baseer ahmed\n",
      "False\n",
      "12\n"
     ]
    }
   ],
   "source": [
    "name = input(\"Enter name: \")\n",
    "quarter = input(\"Enter Quarter: \")\n",
    "batch = input(\"Enter Batch: \")\n",
    "city = input(\"Enter City: \")\n",
    "uni = input(\"Enter University: \")\n",
    "message = \"\"\"\n",
    "Name: {}\n",
    "Quarter: {}\n",
    "Batch: {}\n",
    "City: {}\n",
    "University: {}\n",
    "\"\"\"\n",
    "message = messg.format(name, quarter, batch, city, uni)\n",
    "print(message)\n",
    "print(name.upper())  #convert alphabets in upper case\n",
    "print(name.lower())  #convert alphabets in lower case\n",
    "print(len(name))     #To determine length of a string\n"
   ]
  },
  {
   "cell_type": "code",
   "execution_count": null,
   "metadata": {},
   "outputs": [],
   "source": []
  }
 ],
 "metadata": {
  "kernelspec": {
   "display_name": "Python 3",
   "language": "python",
   "name": "python3"
  },
  "language_info": {
   "codemirror_mode": {
    "name": "ipython",
    "version": 3
   },
   "file_extension": ".py",
   "mimetype": "text/x-python",
   "name": "python",
   "nbconvert_exporter": "python",
   "pygments_lexer": "ipython3",
   "version": "3.7.3"
  }
 },
 "nbformat": 4,
 "nbformat_minor": 2
}
